{
 "cells": [
  {
   "cell_type": "code",
   "execution_count": 7,
   "metadata": {},
   "outputs": [],
   "source": [
    "#import the libraries we need\n",
    "from faker import Faker\n",
    "import pandas as pd\n",
    "\n",
    "#create an instance of Faker\n",
    "fake =Faker(locale='en_US')\n",
    "\n",
    "#Lets create a function\n",
    "def create_patients(num_patients):\n",
    "\n",
    "#Lets create an empty list to add our patient dictionaries\n",
    "    patient_list = []\n",
    "\n",
    "#Let's create an employee dictionary\n",
    "    for i in range(1,num_patients):\n",
    "        patient = {}\n",
    "        patient['first_name'] = fake.first_name()\n",
    "        patient['last_name'] = fake.last_name()\n",
    "        patient['gender'] = fake.gender()\n",
    "        patient['age'] = fake.age()\n",
    "        patient['blood_type'] = fake.blood_type()\n",
    "        patient['id_number'] = fake.id_number()\n",
    "        patient['phone_number'] = fake.phone_number()\n",
    "        patient['email'] = fake.email()\n",
    "        patient['address'] = fake.address()\n",
    "        patient['emergency_contact'] = fake.emergency_contact()\n",
    "        patient['insurance_info'] = fake.insurance_info()\n",
    "        patient['health_info'] = fake.health_info()\n",
    "        patient_list.append(patient)\n",
    "    return pd.DataFrame(patient_list)"
   ]
  }
 ],
 "metadata": {
  "kernelspec": {
   "display_name": "name_of_my_env",
   "language": "python",
   "name": "python3"
  },
  "language_info": {
   "codemirror_mode": {
    "name": "ipython",
    "version": 3
   },
   "file_extension": ".py",
   "mimetype": "text/x-python",
   "name": "python",
   "nbconvert_exporter": "python",
   "pygments_lexer": "ipython3",
   "version": "3.12.1"
  }
 },
 "nbformat": 4,
 "nbformat_minor": 2
}
