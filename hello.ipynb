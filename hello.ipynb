{
 "cells": [
  {
   "cell_type": "code",
   "execution_count": 1,
   "metadata": {},
   "outputs": [
    {
     "ename": "ModuleNotFoundError",
     "evalue": "No module named 'pandas'",
     "output_type": "error",
     "traceback": [
      "\u001b[1;31m---------------------------------------------------------------------------\u001b[0m",
      "\u001b[1;31mModuleNotFoundError\u001b[0m                       Traceback (most recent call last)",
      "Cell \u001b[1;32mIn[1], line 3\u001b[0m\n\u001b[0;32m      1\u001b[0m \u001b[38;5;66;03m#import the libraries we need\u001b[39;00m\n\u001b[0;32m      2\u001b[0m \u001b[38;5;28;01mfrom\u001b[39;00m \u001b[38;5;21;01mfaker\u001b[39;00m \u001b[38;5;28;01mimport\u001b[39;00m Faker\n\u001b[1;32m----> 3\u001b[0m \u001b[38;5;28;01mimport\u001b[39;00m \u001b[38;5;21;01mpandas\u001b[39;00m \u001b[38;5;28;01mas\u001b[39;00m \u001b[38;5;21;01mpd\u001b[39;00m\n\u001b[0;32m      5\u001b[0m \u001b[38;5;66;03m#create an instance of Faker\u001b[39;00m\n\u001b[0;32m      6\u001b[0m fake \u001b[38;5;241m=\u001b[39mFaker(locale\u001b[38;5;241m=\u001b[39m\u001b[38;5;124m'\u001b[39m\u001b[38;5;124men_US\u001b[39m\u001b[38;5;124m'\u001b[39m)\n",
      "\u001b[1;31mModuleNotFoundError\u001b[0m: No module named 'pandas'"
     ]
    }
   ],
   "source": [
    "#import the libraries we need\n",
    "from faker import Faker\n",
    "import pandas as pd\n",
    "\n",
    "#create an instance of Faker\n",
    "fake =Faker(locale='en_US')\n",
    "\n",
    "#Lets create a function\n",
    "def create_patients(num_patients):\n",
    "\n",
    "#Lets create an empty list to add our patient dictionaries\n",
    "    patient_list = []\n",
    "\n",
    "#Let's create an employee dictionary\n",
    "    for i in range(1,num_patients):\n",
    "        patient = {}\n",
    "        patient['first_name'] = fake.first_name()\n",
    "        patient['last_name'] = fake.last_name()\n",
    "        patient['gender'] = fake.gender()\n",
    "        patient['age'] = fake.age()\n",
    "        patient['blood_type'] = fake.blood_type()\n",
    "        patient['id_number'] = fake.id_number()\n",
    "        patient['phone_number'] = fake.phone_number()\n",
    "        patient['email'] = fake.email()\n",
    "        patient['address'] = fake.address()\n",
    "        patient['emergency_contact'] = fake.emergency_contact()\n",
    "        patient['insurance_info'] = fake.insurance_info()\n",
    "        patient['health_info'] = fake.health_info()\n",
    "        patient_list.append(patient)\n",
    "    return pd.DataFrame(patient_list)"
   ]
  }
 ],
 "metadata": {
  "kernelspec": {
   "display_name": "base",
   "language": "python",
   "name": "python3"
  },
  "language_info": {
   "codemirror_mode": {
    "name": "ipython",
    "version": 3
   },
   "file_extension": ".py",
   "mimetype": "text/x-python",
   "name": "python",
   "nbconvert_exporter": "python",
   "pygments_lexer": "ipython3",
   "version": "3.11.5"
  }
 },
 "nbformat": 4,
 "nbformat_minor": 2
}
